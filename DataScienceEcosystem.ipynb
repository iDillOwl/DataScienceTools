{
 "cells": [
  {
   "cell_type": "markdown",
   "id": "72ff9b46",
   "metadata": {},
   "source": [
    "# Data Science Tools and Ecosystem"
   ]
  },
  {
   "cell_type": "markdown",
   "id": "d2d847ad",
   "metadata": {},
   "source": [
    "In this notebook, Data Science Tools and Ecosystem are summarized."
   ]
  },
  {
   "cell_type": "markdown",
   "id": "2c48fb4f",
   "metadata": {},
   "source": [
    "__Objectives:__\n",
    "*   List popular languages used by Data Scientists\n",
    "*   List some common libraries used by Data Scientists\n",
    "*   List some popular development environments used by Data Scientists\n",
    "*   Demonstrate basic equations using code"
   ]
  },
  {
   "cell_type": "markdown",
   "id": "2bd22d30",
   "metadata": {},
   "source": [
    "Some of the popular languages that Data Scientists use are:\n",
    "1.  Python\n",
    "2.  SQL\n",
    "3.  JavaScript\n",
    "4.  R Language"
   ]
  },
  {
   "cell_type": "markdown",
   "id": "701587ec",
   "metadata": {},
   "source": [
    "Some of the commonly used libraries used by Data Scientists include:\n",
    "1.  pandas\n",
    "2.  numpy\n",
    "3.  matplotlib\n",
    "4.  scikit-learn"
   ]
  },
  {
   "cell_type": "markdown",
   "id": "6977a2ed",
   "metadata": {},
   "source": [
    "| Data Science Tools |\n",
    "|--------------------|\n",
    "| Spyder |\n",
    "| RStudio |\n",
    "| Jupyter Notebook -> Jupyter Lab|"
   ]
  },
  {
   "cell_type": "markdown",
   "id": "7d14f4b9",
   "metadata": {},
   "source": [
    "### Below are a few examples of evaluating arithmetic expressions in Python."
   ]
  },
  {
   "cell_type": "code",
   "execution_count": 1,
   "id": "516ed3b2",
   "metadata": {},
   "outputs": [
    {
     "data": {
      "text/plain": [
       "17"
      ]
     },
     "execution_count": 1,
     "metadata": {},
     "output_type": "execute_result"
    }
   ],
   "source": [
    "# This is a simple arithmetic expression to multiply, then add integers.\n",
    "(3*4)+5"
   ]
  },
  {
   "cell_type": "code",
   "execution_count": 2,
   "id": "33a4287e",
   "metadata": {},
   "outputs": [
    {
     "data": {
      "text/plain": [
       "3.3333333333333335"
      ]
     },
     "execution_count": 2,
     "metadata": {},
     "output_type": "execute_result"
    }
   ],
   "source": [
    "# This will convert 200 minutes to hours by dividing by 60\n",
    "200/60"
   ]
  },
  {
   "cell_type": "markdown",
   "id": "3d8f5328",
   "metadata": {},
   "source": [
    "## Author\n",
    "Dillon Hopke"
   ]
  }
 ],
 "metadata": {
  "kernelspec": {
   "display_name": "Python 3",
   "language": "python",
   "name": "python3"
  },
  "language_info": {
   "codemirror_mode": {
    "name": "ipython",
    "version": 3
   },
   "file_extension": ".py",
   "mimetype": "text/x-python",
   "name": "python",
   "nbconvert_exporter": "python",
   "pygments_lexer": "ipython3",
   "version": "3.11.9"
  }
 },
 "nbformat": 4,
 "nbformat_minor": 5
}
